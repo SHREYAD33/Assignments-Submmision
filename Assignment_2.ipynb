{
 "cells": [
  {
   "cell_type": "markdown",
   "metadata": {},
   "source": [
    "#### 1. What are the Boolean data type's two values? How do you go about writing them?"
   ]
  },
  {
   "cell_type": "markdown",
   "metadata": {},
   "source": [
    "<strong>Answer :-</strong>\n",
    "\n",
    "Two values of Boolean data types are 0 & 1. \n",
    "\n",
    "0 is defined with False\n",
    "1 is defined with True"
   ]
  },
  {
   "cell_type": "code",
   "execution_count": 39,
   "metadata": {},
   "outputs": [],
   "source": [
    "b1 = False #where we assign False to variable b2\n",
    "b2 = True #where we assign True to variable b1"
   ]
  },
  {
   "cell_type": "markdown",
   "metadata": {},
   "source": [
    "#### 2. What are the three different types of Boolean operators?"
   ]
  },
  {
   "cell_type": "markdown",
   "metadata": {},
   "source": [
    "<strong>Answer :-</strong>\n",
    "\n",
    "Three basic boolean operators are: AND, OR, and NOT"
   ]
  },
  {
   "cell_type": "code",
   "execution_count": 40,
   "metadata": {},
   "outputs": [
    {
     "name": "stdout",
     "output_type": "stream",
     "text": [
      "Boolean Operator - 'AND'\n",
      "Boolean Operator - 'OR'\n",
      "Boolean Operator - 'NOT'\n"
     ]
    }
   ],
   "source": [
    "a = True\n",
    "b = False\n",
    "c = 500\n",
    "\n",
    "if a==1 and b ==0:\n",
    "    print(\"Boolean Operator - 'AND'\")\n",
    "\n",
    "if a == True or b ==False:\n",
    "    print(\"Boolean Operator - 'OR'\")\n",
    "\n",
    "if not(c < 100):\n",
    "    print(\"Boolean Operator - 'NOT'\")"
   ]
  },
  {
   "cell_type": "markdown",
   "metadata": {},
   "source": [
    "#### 3. Make a list of each Boolean operator's truth tables (i.e. every possible combination of Boolean values for the operator and what it evaluate )."
   ]
  },
  {
   "cell_type": "markdown",
   "metadata": {},
   "source": [
    "<strong>Answer :-</strong>\n",
    "\n",
    "\n",
    "AND |Operator |Table\n",
    "--- | --- | ---\n",
    "A |\tB |Q\n",
    "0 |\t0 |\t0\n",
    "0 |\t1 |\t0\n",
    "1 |\t0 |\t0\n",
    "1 |\t1 |\t1\n",
    "\n",
    "\n",
    "OR|Operator|Table\n",
    "--| ---| ---\n",
    "A |\tB | Q\n",
    "0 |\t0 |\t0\n",
    "0 |\t1 |\t1\n",
    "1 |\t0 |\t1\n",
    "1 |\t1 |\t1\n",
    "\n",
    "NOT |Operator |Table\n",
    "--- | --- | ---\n",
    "X |\tY \n",
    "0 |\t1 \n",
    "1 |\t0 \n",
    "\n"
   ]
  },
  {
   "cell_type": "code",
   "execution_count": 41,
   "metadata": {},
   "outputs": [
    {
     "name": "stdout",
     "output_type": "stream",
     "text": [
      "+-----+-----+\n",
      "|  p  |  q  |\n",
      "|-----+-----|\n",
      "|  1  |  1  |\n",
      "|  1  |  0  |\n",
      "|  0  |  1  |\n",
      "|  0  |  0  |\n",
      "+-----+-----+\n"
     ]
    }
   ],
   "source": [
    "#other ways to generate turth table\n",
    "#truth-table-generator is a tool that allows to generate a truth table. It is a fork of truths by tr3buchet.\n",
    "#Installation :- pip install truth-table-generator\n",
    "import ttg\n",
    "print(ttg.Truths(['p','q']))"
   ]
  },
  {
   "cell_type": "code",
   "execution_count": 42,
   "metadata": {},
   "outputs": [
    {
     "name": "stdout",
     "output_type": "stream",
     "text": [
      "+-----+-----+-----------+-----------+---------------+\n",
      "|  p  |  q  |  p and q  |  p or q   |  (p or (~q))  |\n",
      "|-----+-----+-----------+-----------+---------------|\n",
      "|  1  |  1  |     1     |     1     |       1       |\n",
      "|  1  |  0  |     0     |     1     |       1       |\n",
      "|  0  |  1  |     0     |     1     |       0       |\n",
      "|  0  |  0  |     0     |     0     |       1       |\n",
      "+-----+-----+-----------+-----------+---------------+\n"
     ]
    }
   ],
   "source": [
    "print(ttg.Truths(['p', 'q'], ['p and q', 'p or q ', '(p or (~q))']))"
   ]
  },
  {
   "cell_type": "markdown",
   "metadata": {},
   "source": [
    "#### 4. What are the values of the following expressions?"
   ]
  },
  {
   "cell_type": "markdown",
   "metadata": {},
   "source": [
    "<strong>Answer :-</strong>\n",
    "\n",
    "Expression |Value\n",
    "-----|----\n",
    "(5 > 4) and (3 == 5)| False\n",
    "not (5 > 4)| false\n",
    "(5 > 4) or (3 == 5)| True\n",
    "not ((5 > 4) or (3 == 5))| False\n",
    "(True and True) and (True == False) |False \n",
    "(not False) or (not True)| True"
   ]
  },
  {
   "cell_type": "code",
   "execution_count": 43,
   "metadata": {},
   "outputs": [
    {
     "name": "stdout",
     "output_type": "stream",
     "text": [
      "False\n",
      "False\n",
      "True\n",
      "False\n",
      "False\n",
      "True\n"
     ]
    }
   ],
   "source": [
    "print((5 > 4) and (3 == 5))\n",
    "print(not (5>4))\n",
    "print((5 > 4) or (3 == 5))\n",
    "print(not ((5 > 4) or (3 == 5)))\n",
    "print((True and True) and (True == False))\n",
    "print((not False) or (not True))"
   ]
  },
  {
   "cell_type": "markdown",
   "metadata": {},
   "source": [
    "#### 5. What are the six different types of reference operators?"
   ]
  },
  {
   "cell_type": "markdown",
   "metadata": {},
   "source": [
    "<strong>Answer :-</strong>\n",
    "\n",
    "Usual python operators are :<br><br>\n",
    "Arithmetic operators.<br>\n",
    "Assignment operators.<br>\n",
    "Comparison operators.<br>\n",
    "Logical operators.<br>\n",
    "Identity operators.<br>\n",
    "Bitwise operators.<br>\n",
    "\n",
    "Kinldy help to understand the reference operator"
   ]
  },
  {
   "cell_type": "markdown",
   "metadata": {},
   "source": [
    "#### 6. How do you tell the difference between the equal to and assignment operators?"
   ]
  },
  {
   "cell_type": "markdown",
   "metadata": {},
   "source": [
    "<strong>Answer :-</strong>\n",
    "\n",
    "The assignment operator (=) is used to assign a value to a variable, element of an array, or property of an object. \n",
    "\n",
    "The equal to  operator (==) is used to compare two values or expressions. It is used to compare numbers, strings, Boolean values, variables, objects, arrays, or functions. The result is TRUE if the expressions are equal and FALSE otherwise. How items are compared depends on their data type\n"
   ]
  },
  {
   "cell_type": "code",
   "execution_count": 54,
   "metadata": {},
   "outputs": [
    {
     "name": "stdout",
     "output_type": "stream",
     "text": [
      "value of a is : 5\n",
      "both the values ,a and b  are equal\n"
     ]
    }
   ],
   "source": [
    "# assignment operator example\n",
    "a= 5\n",
    "print('value of a is :' ,a)\n",
    "\n",
    "# equal to operator example\n",
    "b= 5\n",
    "if a==b:\n",
    "    print('both the values ,a and b  are equal')"
   ]
  },
  {
   "cell_type": "markdown",
   "metadata": {},
   "source": [
    "#### 7. Describe a condition and when you would use one."
   ]
  },
  {
   "cell_type": "markdown",
   "metadata": {},
   "source": [
    "<strong>Answer :-</strong>\n",
    "\n",
    "Conditionals are expressions that evaluate to either true or false. They are mostly used to determine Program Flow through if statements and while loops.\n",
    "\n",
    "We have to use one when have to perform some task depeneding one some true or false value.\n",
    "\n"
   ]
  },
  {
   "cell_type": "markdown",
   "metadata": {},
   "source": [
    "#### 8. Recognize the following three blocks in this code:"
   ]
  },
  {
   "cell_type": "markdown",
   "metadata": {},
   "source": [
    "<strong>Answer :-</strong>"
   ]
  },
  {
   "cell_type": "code",
   "execution_count": 59,
   "metadata": {},
   "outputs": [
    {
     "name": "stdout",
     "output_type": "stream",
     "text": [
      "spam\n"
     ]
    }
   ],
   "source": [
    "spam = 0\n",
    "if spam == 10:\n",
    "    print('eggs')# prints eggs if spam is equal to 10 . in this code as spam is 0 so eqqs will not get printed \n",
    "    if spam > 5:\n",
    "        print('bacon')# prints bacon as if spam equals to 10\n",
    "    else:\n",
    "        print('ham')# prints nothing as elseif ocndition will never be true as in first condition spam value is set to 10\n",
    "                    #which is gretaer than 5 always. so after first nested if program will not check else condition.\n",
    "    print('spam')# prints spam as if spam equals to 10\n",
    "print('spam')# prints  spam irrespective of  value of spam\n"
   ]
  },
  {
   "cell_type": "markdown",
   "metadata": {},
   "source": [
    "#### 9. Create a programme that prints. If 1 is stored in spam, prints Hello; if 2 is stored in spam, prints Howdy; and if 3 is stored in spam, prints Salutations! if there's something else in spam."
   ]
  },
  {
   "cell_type": "markdown",
   "metadata": {},
   "source": [
    "<strong>Answer :-</strong>"
   ]
  },
  {
   "cell_type": "code",
   "execution_count": 62,
   "metadata": {},
   "outputs": [
    {
     "name": "stdout",
     "output_type": "stream",
     "text": [
      "Enter the value of spam :: 5\n",
      "kindly enter value 1, 2 or 3\n"
     ]
    }
   ],
   "source": [
    "spam = input(\"Enter the value of spam :: \")\n",
    "if spam == 1:\n",
    "    print(\"Hello\")\n",
    "elif spam == 2:\n",
    "    print(\"Howdy\")\n",
    "elif spam == 3:\n",
    "    print(\"Salutations\")\n",
    "else:\n",
    "    print('kindly enter value 1, 2 or 3')"
   ]
  },
  {
   "cell_type": "markdown",
   "metadata": {},
   "source": [
    "#### 10.If your programme is stuck in an endless loop, what keys can you press?"
   ]
  },
  {
   "cell_type": "markdown",
   "metadata": {},
   "source": [
    "<strong>Answer :-</strong>\n",
    "\n",
    "Ctrl + C will stop the stucked loop"
   ]
  },
  {
   "cell_type": "markdown",
   "metadata": {},
   "source": [
    "#### 11. How can you tell the difference between break and continue?"
   ]
  },
  {
   "cell_type": "markdown",
   "metadata": {},
   "source": [
    "<strong>Answer :-</strong>\n",
    "\n",
    "Break leaves the loop completely and executes the statements after the loop. Whereas Continue leaves the current iteration and executes with the next value in the loop. break completely exits the loop."
   ]
  },
  {
   "cell_type": "code",
   "execution_count": 6,
   "metadata": {},
   "outputs": [
    {
     "name": "stdout",
     "output_type": "stream",
     "text": [
      "0\n",
      "1\n",
      "2\n",
      "3\n",
      "4\n"
     ]
    }
   ],
   "source": [
    "# Break will throw the control out of the conditional statement.\n",
    "a = 10\n",
    "\n",
    "for i in range(0,10):\n",
    "    if i == 5:\n",
    "        break\n",
    "        print('5')\n",
    "    else:\n",
    "        print (i)"
   ]
  },
  {
   "cell_type": "code",
   "execution_count": 7,
   "metadata": {},
   "outputs": [
    {
     "name": "stdout",
     "output_type": "stream",
     "text": [
      "0\n",
      "1\n",
      "2\n",
      "3\n",
      "4\n",
      "6\n",
      "7\n",
      "8\n",
      "9\n"
     ]
    }
   ],
   "source": [
    "for i in range(0,10):\n",
    "    if i == 5:\n",
    "        continue\n",
    "        print('5')\n",
    "    else:\n",
    "        print (i)"
   ]
  },
  {
   "cell_type": "markdown",
   "metadata": {},
   "source": [
    "#### 12. In a for loop, what is the difference between range(10), range(0, 10), and range(0, 10, 1)?"
   ]
  },
  {
   "cell_type": "markdown",
   "metadata": {},
   "source": [
    "<strong>Answer :-</strong>\n",
    "\n",
    "In case of out put there will be no difference but diffrenet ways to establish condition for 'For' Loop . It provides more flexibility to control the loop condition with respective to starting point, ending point and steps. So case any parameter changes occur in range it will provide different result."
   ]
  },
  {
   "cell_type": "code",
   "execution_count": 70,
   "metadata": {},
   "outputs": [
    {
     "name": "stdout",
     "output_type": "stream",
     "text": [
      "0 1 2 3 4 5 6 7 8 9 \n",
      "\n",
      "0 1 2 3 4 5 6 7 8 9 \n",
      "\n",
      "0 1 2 3 4 5 6 7 8 9 \n"
     ]
    }
   ],
   "source": [
    "# range(10)\n",
    "for i in range(10):\n",
    "    print(i,end=\" \")\n",
    "print('\\n')\n",
    "\n",
    "# range(0,10)\n",
    "for i in range(0,10):\n",
    "    print(i,end=\" \")\n",
    "print('\\n')\n",
    "\n",
    "# range(0,10,1)    \n",
    "for i in range(0,10,1):\n",
    "    print(i,end=\" \")\n",
    "print()"
   ]
  },
  {
   "cell_type": "markdown",
   "metadata": {},
   "source": [
    "#### 13. Using a for loop, write a short programme that prints the numbers 1 to 10 Then, using a while loop, create an identical programme that prints the numbers 1 to 10.\n"
   ]
  },
  {
   "cell_type": "markdown",
   "metadata": {},
   "source": [
    "<strong>Answer :-</strong>"
   ]
  },
  {
   "cell_type": "code",
   "execution_count": 67,
   "metadata": {},
   "outputs": [
    {
     "name": "stdout",
     "output_type": "stream",
     "text": [
      "Using For loop\n",
      "0 1 2 3 4 5 6 7 8 9 10 \n",
      "\n",
      "\n",
      "Using While Loop\n",
      "0 1 2 3 4 5 6 7 8 9 10 "
     ]
    }
   ],
   "source": [
    "print(\"Using For loop\")\n",
    "for i in range(0,11):\n",
    "    print(i,end=\" \")\n",
    "print()\n",
    "print('\\n')\n",
    "print(\"Using While Loop\")\n",
    "x = 0\n",
    "while x <= 10:    \n",
    "    print(x,end=\" \")\n",
    "    x =x+1   "
   ]
  },
  {
   "cell_type": "markdown",
   "metadata": {},
   "source": [
    "#### 14. If you had a bacon() function within a spam module, what would you call it after importing spam?"
   ]
  },
  {
   "cell_type": "markdown",
   "metadata": {},
   "source": [
    "<strong>Answer :-</strong>\n",
    "\n",
    "import spam as sm\n",
    "\n",
    "s.bacon()"
   ]
  },
  {
   "cell_type": "code",
   "execution_count": null,
   "metadata": {},
   "outputs": [],
   "source": []
  }
 ],
 "metadata": {
  "kernelspec": {
   "display_name": "Python 3",
   "language": "python",
   "name": "python3"
  },
  "language_info": {
   "codemirror_mode": {
    "name": "ipython",
    "version": 3
   },
   "file_extension": ".py",
   "mimetype": "text/x-python",
   "name": "python",
   "nbconvert_exporter": "python",
   "pygments_lexer": "ipython3",
   "version": "3.7.4"
  }
 },
 "nbformat": 4,
 "nbformat_minor": 2
}
